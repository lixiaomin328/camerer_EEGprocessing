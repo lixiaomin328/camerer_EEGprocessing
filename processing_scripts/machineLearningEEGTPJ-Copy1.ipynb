{
 "cells": [
  {
   "cell_type": "code",
   "execution_count": 137,
   "metadata": {},
   "outputs": [],
   "source": [
    "import csv\n",
    "import pandas as pd \n",
    "import numpy as np\n",
    "from sklearn.ensemble import AdaBoostClassifier\n",
    "from sklearn.datasets import make_classification\n",
    "from sklearn.model_selection import train_test_split\n",
    "from sklearn import svm\n",
    "from sklearn.model_selection import KFold\n",
    "from sklearn.linear_model import LogisticRegression\n",
    "from sklearn.metrics import roc_curve, auc\n",
    "from sklearn.linear_model import SGDClassifier \n",
    "import matplotlib.pyplot as plt\n"
   ]
  },
  {
   "cell_type": "code",
   "execution_count": 143,
   "metadata": {},
   "outputs": [],
   "source": [
    "data = pd.read_csv(\"sourceDataML/vmpfc728.csv\",header=None) "
   ]
  },
  {
   "cell_type": "code",
   "execution_count": 144,
   "metadata": {},
   "outputs": [
    {
     "data": {
      "text/plain": [
       "(8845, 729)"
      ]
     },
     "execution_count": 144,
     "metadata": {},
     "output_type": "execute_result"
    }
   ],
   "source": [
    "data.shape"
   ]
  },
  {
   "cell_type": "code",
   "execution_count": 117,
   "metadata": {},
   "outputs": [],
   "source": [
    "for i in range(476):\n",
    "    data = data.drop([i], axis=1)"
   ]
  },
  {
   "cell_type": "code",
   "execution_count": 118,
   "metadata": {},
   "outputs": [],
   "source": [
    "for i in range(751):\n",
    "    if i <566:\n",
    "        continue\n",
    "    data = data.drop([i], axis=1)"
   ]
  },
  {
   "cell_type": "code",
   "execution_count": 145,
   "metadata": {},
   "outputs": [],
   "source": [
    "dataALL= data.to_numpy()"
   ]
  },
  {
   "cell_type": "code",
   "execution_count": 57,
   "metadata": {},
   "outputs": [],
   "source": [
    "\n",
    "clf = AdaBoostClassifier(n_estimators=100, random_state=0)"
   ]
  },
  {
   "cell_type": "markdown",
   "metadata": {},
   "source": [
    "data"
   ]
  },
  {
   "cell_type": "code",
   "execution_count": 146,
   "metadata": {},
   "outputs": [
    {
     "data": {
      "image/png": "[encoded data removed]",
      "text/plain": [
       "<Figure size 432x288 with 1 Axes>"
      ]
     },
     "metadata": {
      "needs_background": "light"
     },
     "output_type": "display_data"
    }
   ],
   "source": [
    "#DATA segementation\n",
    "x = dataALL[:,0:dataALL.shape[1]-2]\n",
    "y = dataALL[:,dataALL.shape[1]-1]\n",
    "x_train, x_test, y_train, y_test = train_test_split(\n",
    "x, y, test_size=0.3, random_state=42)\n",
    "\n",
    "\n",
    "# model = SGDClassifier(loss='hinge',alpha = 0.0005,class_weight='balanced')\n",
    "# model.fit(x_train, y_train)\n",
    "#model = AdaBoostClassifier(n_estimators=40, random_state=0)\n",
    "model = svm.SVC(C = .3,kernel = 'rbf',gamma='auto')\n",
    "model.fit(x_train, y_train) \n",
    "y_train_pred = model.decision_function(x_train)    \n",
    "y_test_pred = model.decision_function(x_test) \n",
    "\n",
    "train_fpr, train_tpr, tr_thresholds = roc_curve(y_train, y_train_pred)\n",
    "test_fpr, test_tpr, te_thresholds = roc_curve(y_test, y_test_pred)\n",
    "\n",
    "plt.grid()\n",
    "\n",
    "plt.plot(train_fpr, train_tpr, label=\" AUC TRAIN =\"+str(auc(train_fpr, train_tpr)))\n",
    "plt.plot(test_fpr, test_tpr, label=\" AUC TEST =\"+str(auc(test_fpr, test_tpr)))\n",
    "plt.plot([0,1],[0,1],'g--')\n",
    "plt.legend()\n",
    "plt.xlabel(\"True Positive Rate\")\n",
    "plt.ylabel(\"False Positive Rate\")\n",
    "plt.title(\"AUC(ROC curve)\")\n",
    "plt.grid(color='black', linestyle='-', linewidth=0.5)\n",
    "plt.show()"
   ]
  },
  {
   "cell_type": "code",
   "execution_count": 125,
   "metadata": {},
   "outputs": [
    {
     "name": "stdout",
     "output_type": "stream",
     "text": [
      "TRAIN: [1387 1388 1389 ... 6932 6933 6934] TEST: [   0    1    2 ... 1384 1385 1386]\n",
      "in sample: 0.613013698630137 out of sample: 0.5746214852198991\n",
      "TRAIN: [   0    1    2 ... 6932 6933 6934] TEST: [1387 1388 1389 ... 2771 2772 2773]\n",
      "in sample: 0.6135544340302812 out of sample: 0.5767844268204758\n",
      "TRAIN: [   0    1    2 ... 6932 6933 6934] TEST: [2774 2775 2776 ... 4158 4159 4160]\n",
      "in sample: 0.6142754145638067 out of sample: 0.5760634462869503\n",
      "TRAIN: [   0    1    2 ... 6932 6933 6934] TEST: [4161 4162 4163 ... 5545 5546 5547]\n",
      "in sample: 0.6177000720980533 out of sample: 0.5717375630857967\n",
      "TRAIN: [   0    1    2 ... 5545 5546 5547] TEST: [5548 5549 5550 ... 6932 6933 6934]\n",
      "in sample: 0.6081470800288392 out of sample: 0.6041816870944484\n"
     ]
    }
   ],
   "source": [
    "#SVM\n",
    "#Adaboost\n",
    "kf = KFold(n_splits=5)\n",
    "kf.get_n_splits(x)\n",
    "for train_index, test_index in kf.split(x):\n",
    "    print(\"TRAIN:\", train_index, \"TEST:\", test_index)\n",
    "    X_train, X_test = x[train_index], x[test_index]\n",
    "    y_train, y_test = y[train_index], y[test_index]\n",
    "\n",
    "    clfSVM = svm.SVC(kernel = 'poly',gamma='auto').fit(X_train, y_train)\n",
    "    inAccuSVM = clfSVM.score(X_train, y_train)\n",
    "    outAccuSVM = clfSVM.score(X_test, y_test)\n",
    "    print(\"in sample:\", str(inAccuSVM),\"out of sample:\", str(outAccuSVM))\n",
    "\n"
   ]
  },
  {
   "cell_type": "code",
   "execution_count": 89,
   "metadata": {},
   "outputs": [
    {
     "name": "stdout",
     "output_type": "stream",
     "text": [
      "TRAIN: [1387 1388 1389 ... 6932 6933 6934] TEST: [   0    1    2 ... 1384 1385 1386]\n",
      "in sample: 0.6294160057678443 out of sample: 0.5717375630857967\n",
      "TRAIN: [   0    1    2 ... 6932 6933 6934] TEST: [1387 1388 1389 ... 2771 2772 2773]\n",
      "in sample: 0.6250901225666907 out of sample: 0.5760634462869503\n",
      "TRAIN: [   0    1    2 ... 6932 6933 6934] TEST: [2774 2775 2776 ... 4158 4159 4160]\n",
      "in sample: 0.6281542898341744 out of sample: 0.5739005046863734\n",
      "TRAIN: [   0    1    2 ... 6932 6933 6934] TEST: [4161 4162 4163 ... 5545 5546 5547]\n",
      "in sample: 0.6294160057678443 out of sample: 0.5739005046863734\n",
      "TRAIN: [   0    1    2 ... 5545 5546 5547] TEST: [5548 5549 5550 ... 6932 6933 6934]\n",
      "in sample: 0.6330209084354722 out of sample: 0.5832732516222062\n"
     ]
    }
   ],
   "source": [
    "#Adaboost\n",
    "kf = KFold(n_splits=5)\n",
    "kf.get_n_splits(x)\n",
    "for train_index, test_index in kf.split(x):\n",
    "    print(\"TRAIN:\", train_index, \"TEST:\", test_index)\n",
    "    X_train, X_test = x[train_index], x[test_index]\n",
    "    y_train, y_test = y[train_index], y[test_index]\n",
    "\n",
    "    clfAda = AdaBoostClassifier(n_estimators=70, random_state=0)\n",
    "    clfAda.fit(X_train, y_train)\n",
    "    AdaBoostClassifier(n_estimators=100, random_state=0)\n",
    "    inAccuAda = clfAda.score(X_train, y_train)\n",
    "    outAccuAda = clfAda.score(X_test, y_test)\n",
    "    print(\"in sample:\", str(inAccuAda),\"out of sample:\", str(outAccuAda))"
   ]
  },
  {
   "cell_type": "code",
   "execution_count": 49,
   "metadata": {},
   "outputs": [
    {
     "name": "stderr",
     "output_type": "stream",
     "text": [
      "/Users/xiaominli/anaconda3/lib/python3.7/site-packages/sklearn/linear_model/_logistic.py:765: ConvergenceWarning: lbfgs failed to converge (status=1):\n",
      "STOP: TOTAL NO. of ITERATIONS REACHED LIMIT.\n",
      "\n",
      "Increase the number of iterations (max_iter) or scale the data as shown in:\n",
      "    https://scikit-learn.org/stable/modules/preprocessing.html\n",
      "Please also refer to the documentation for alternative solver options:\n",
      "    https://scikit-learn.org/stable/modules/linear_model.html#logistic-regression\n",
      "  extra_warning_msg=_LOGISTIC_SOLVER_CONVERGENCE_MSG)\n"
     ]
    },
    {
     "data": {
      "text/plain": [
       "array([[ 0.32437 ,  0.12257 ,  0.20188 , ...,  0.3938  ,  0.38968 ,\n",
       "         0.70902 ],\n",
       "       [ 1.7253  , -0.93175 ,  0.13045 , ..., -1.5317  , -1.2962  ,\n",
       "        -0.048017],\n",
       "       [ 4.7329  ,  3.0849  ,  2.1714  , ...,  2.6919  ,  2.2268  ,\n",
       "         1.5752  ],\n",
       "       ...,\n",
       "       [-0.24858 ,  0.22187 ,  0.2415  , ...,  0.3202  ,  0.21306 ,\n",
       "         0.49529 ],\n",
       "       [-0.45223 ,  0.46593 , -0.91491 , ..., -0.025303,  0.088508,\n",
       "        -0.83938 ],\n",
       "       [-0.38674 , -1.1102  , -0.83282 , ..., -0.55938 ,  0.52231 ,\n",
       "        -0.11654 ]])"
      ]
     },
     "execution_count": 49,
     "metadata": {},
     "output_type": "execute_result"
    }
   ],
   "source": [
    "#logit\n",
    "clf = LogisticRegression(random_state=0).fit(x, y)\n",
    "x"
   ]
  },
  {
   "cell_type": "code",
   "execution_count": 52,
   "metadata": {},
   "outputs": [
    {
     "data": {
      "text/plain": [
       "(6935, 119)"
      ]
     },
     "execution_count": 52,
     "metadata": {},
     "output_type": "execute_result"
    }
   ],
   "source": [
    "x.shape"
   ]
  },
  {
   "cell_type": "code",
   "execution_count": null,
   "metadata": {},
   "outputs": [],
   "source": []
  }
 ],
 "metadata": {
  "kernelspec": {
   "display_name": "Python 3",
   "language": "python",
   "name": "python3"
  },
  "language_info": {
   "codemirror_mode": {
    "name": "ipython",
    "version": 3
   },
   "file_extension": ".py",
   "mimetype": "text/x-python",
   "name": "python",
   "nbconvert_exporter": "python",
   "pygments_lexer": "ipython3",
   "version": "3.7.3"
  }
 },
 "nbformat": 4,
 "nbformat_minor": 2
}
